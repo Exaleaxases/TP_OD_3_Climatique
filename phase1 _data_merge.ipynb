{
 "cells": [
  {
   "cell_type": "markdown",
   "metadata": {},
   "source": [
    "# imports"
   ]
  },
  {
   "cell_type": "code",
   "execution_count": 8,
   "metadata": {},
   "outputs": [],
   "source": [
    "import pandas as pd\n",
    "\n",
    "import re"
   ]
  },
  {
   "cell_type": "markdown",
   "metadata": {},
   "source": [
    "# Temperature"
   ]
  },
  {
   "cell_type": "code",
   "execution_count": 9,
   "metadata": {},
   "outputs": [],
   "source": [
    "def load_temperature_data(filepath, country):\n",
    "    with open(filepath, \"r\") as file:\n",
    "        lines = file.readlines()\n",
    "\n",
    "    data_lines = [line.strip() for line in lines if re.match(r\"^\\s*\\d{4}\\s+\\d+\\s+[-+]?\\d*\\.\\d+\", line)]\n",
    "    data = []\n",
    "    for line in data_lines:\n",
    "        parts = re.split(r'\\s+', line.strip())\n",
    "        year = int(parts[0])\n",
    "        month = int(parts[1])\n",
    "        anomaly = float(parts[2])\n",
    "        data.append({\"année\": year, \"mois\": month, \"anomalie_temp\": anomaly, \"pays\": country})\n",
    "    \n",
    "    df = pd.DataFrame(data)\n",
    "    return df.groupby(['année', 'pays'])['anomalie_temp'].mean().reset_index()\n",
    "\n",
    "# Charger les deux fichiers de température\n",
    "df_temp_fr = load_temperature_data(\"datasets/temp/france-TemperatureAVG-Trend.txt\", \"France\")\n",
    "df_temp_in = load_temperature_data(\"datasets/temp/india-TemperatureAVG-Trend.txt\", \"Inde\")\n",
    "\n",
    "# Fusionner les txt de temperature\n",
    "df_temp = pd.concat([df_temp_fr, df_temp_in])"
   ]
  },
  {
   "cell_type": "markdown",
   "metadata": {},
   "source": [
    "# Precipitations"
   ]
  },
  {
   "cell_type": "code",
   "execution_count": 10,
   "metadata": {},
   "outputs": [],
   "source": [
    "df_precip = pd.read_csv(\"datasets/pre/precipitations_1970_2020_synthetiques.csv\")\n",
    "\n",
    "# Melt : conversion en format long\n",
    "df_precip_melted = df_precip.melt(id_vars='année', var_name='colonne_origine', value_name='precipitations_mm')\n",
    "\n",
    "# Extraire le nom de pays de la colonne et renommer proprement\n",
    "df_precip_melted['pays'] = df_precip_melted['colonne_origine'].str.extract(r'(france|inde)', expand=False).str.capitalize()\n",
    "\n",
    "# Supprimer la colonne temporaire inutile\n",
    "df_precip_melted = df_precip_melted.drop(columns='colonne_origine')\n",
    "\n"
   ]
  },
  {
   "cell_type": "markdown",
   "metadata": {},
   "source": [
    "# Disasters"
   ]
  },
  {
   "cell_type": "code",
   "execution_count": 11,
   "metadata": {},
   "outputs": [],
   "source": [
    "# Lire les fichiers\n",
    "df_fr = pd.read_csv(\"datasets/cata/france_disasters.csv\")\n",
    "df_in = pd.read_csv(\"datasets/cata/india_disasters.csv\")\n",
    "\n",
    "# Ajouter pays\n",
    "df_fr['pays'] = 'France'\n",
    "df_in['pays'] = 'Inde'\n",
    "\n",
    "# Fusionner\n",
    "df_cat = pd.concat([df_fr, df_in], ignore_index=True)\n",
    "\n",
    "# Extraire l’année à partir du format \"YYYY-XXXX-XXX\"\n",
    "df_cat['année'] = df_cat['DisNo.'].str.extract(r'^(\\d{4})').astype(int)\n",
    "\n",
    "# Filtrer entre 1970 et 2020\n",
    "df_cat = df_cat[df_cat['année'].between(1970, 2020)]\n",
    "\n",
    "# Compter les catastrophes par année/pays\n",
    "df_catastrophes = df_cat.groupby(['année', 'pays']).size().reset_index(name='nb_catastrophes')\n"
   ]
  },
  {
   "cell_type": "markdown",
   "metadata": {},
   "source": [
    "# CO2 emission"
   ]
  },
  {
   "cell_type": "code",
   "execution_count": 12,
   "metadata": {},
   "outputs": [],
   "source": [
    "df_co2 = pd.read_csv(\"datasets/co2/owid-co2-data.csv\")\n",
    "df_co2 = df_co2[df_co2['country'].isin(['France', 'India'])]\n",
    "df_co2 = df_co2[(df_co2['year'] >= 1970) & (df_co2['year'] <= 2020)]\n",
    "df_co2 = df_co2[['year', 'country', 'co2']]\n",
    "df_co2.columns = ['année', 'pays', 'co2_emis']\n",
    "df_co2['pays'] = df_co2['pays'].replace({'India': 'Inde', 'France': 'France'})\n"
   ]
  },
  {
   "cell_type": "code",
   "execution_count": 13,
   "metadata": {},
   "outputs": [
    {
     "data": {
      "text/html": [
       "<div>\n",
       "<style scoped>\n",
       "    .dataframe tbody tr th:only-of-type {\n",
       "        vertical-align: middle;\n",
       "    }\n",
       "\n",
       "    .dataframe tbody tr th {\n",
       "        vertical-align: top;\n",
       "    }\n",
       "\n",
       "    .dataframe thead th {\n",
       "        text-align: right;\n",
       "    }\n",
       "</style>\n",
       "<table border=\"1\" class=\"dataframe\">\n",
       "  <thead>\n",
       "    <tr style=\"text-align: right;\">\n",
       "      <th></th>\n",
       "      <th>année</th>\n",
       "      <th>pays</th>\n",
       "      <th>nb_catastrophes</th>\n",
       "    </tr>\n",
       "  </thead>\n",
       "  <tbody>\n",
       "    <tr>\n",
       "      <th>0</th>\n",
       "      <td>1970</td>\n",
       "      <td>France</td>\n",
       "      <td>3</td>\n",
       "    </tr>\n",
       "    <tr>\n",
       "      <th>1</th>\n",
       "      <td>1970</td>\n",
       "      <td>Inde</td>\n",
       "      <td>4</td>\n",
       "    </tr>\n",
       "    <tr>\n",
       "      <th>2</th>\n",
       "      <td>1971</td>\n",
       "      <td>Inde</td>\n",
       "      <td>5</td>\n",
       "    </tr>\n",
       "    <tr>\n",
       "      <th>3</th>\n",
       "      <td>1972</td>\n",
       "      <td>France</td>\n",
       "      <td>2</td>\n",
       "    </tr>\n",
       "    <tr>\n",
       "      <th>4</th>\n",
       "      <td>1972</td>\n",
       "      <td>Inde</td>\n",
       "      <td>4</td>\n",
       "    </tr>\n",
       "  </tbody>\n",
       "</table>\n",
       "</div>"
      ],
      "text/plain": [
       "   année    pays  nb_catastrophes\n",
       "0   1970  France                3\n",
       "1   1970    Inde                4\n",
       "2   1971    Inde                5\n",
       "3   1972  France                2\n",
       "4   1972    Inde                4"
      ]
     },
     "execution_count": 13,
     "metadata": {},
     "output_type": "execute_result"
    }
   ],
   "source": [
    "df_catastrophes.head()"
   ]
  },
  {
   "cell_type": "markdown",
   "metadata": {},
   "source": [
    "# Fusion finale"
   ]
  },
  {
   "cell_type": "code",
   "execution_count": 14,
   "metadata": {},
   "outputs": [],
   "source": [
    "df_merged = df_temp.merge(df_precip_melted, on=['année', 'pays'], how='left') \\\n",
    "                   .merge(df_co2, on=['année', 'pays'], how='left') \\\n",
    "                   .merge(df_catastrophes, on=['année', 'pays'], how='left')\n",
    "\n",
    "# ---------- 6. Nettoyage final ----------\n",
    "df_merged = df_merged.sort_values(['pays', 'année']).reset_index(drop=True)\n",
    "\n",
    "df_final = df_merged[\n",
    "    (df_merged['année'].between(1970, 2020)) &\n",
    "    (df_merged['pays'].isin(['France', 'Inde']))\n",
    "]\n",
    "\n",
    "# ---------- 7. Sauvegarde ----------\n",
    "df_final.to_csv(\"donnees_climatiques_combinees.csv\", index=False)\n"
   ]
  }
 ],
 "metadata": {
  "kernelspec": {
   "display_name": "Python 3",
   "language": "python",
   "name": "python3"
  },
  "language_info": {
   "codemirror_mode": {
    "name": "ipython",
    "version": 3
   },
   "file_extension": ".py",
   "mimetype": "text/x-python",
   "name": "python",
   "nbconvert_exporter": "python",
   "pygments_lexer": "ipython3",
   "version": "3.10.0"
  }
 },
 "nbformat": 4,
 "nbformat_minor": 2
}
