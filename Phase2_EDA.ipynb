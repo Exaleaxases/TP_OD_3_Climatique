{
 "cells": [
  {
   "cell_type": "markdown",
   "metadata": {},
   "source": [
    "# Imports"
   ]
  },
  {
   "cell_type": "code",
   "execution_count": null,
   "metadata": {},
   "outputs": [],
   "source": [
    "import pandas as pd\n",
    "import matplotlib.pyplot as plt\n",
    "import seaborn as sns"
   ]
  },
  {
   "cell_type": "markdown",
   "metadata": {},
   "source": [
    "# 🔹 1. Charger les données"
   ]
  },
  {
   "cell_type": "code",
   "execution_count": null,
   "metadata": {},
   "outputs": [],
   "source": [
    "df = pd.read_csv(\"donnees_climatiques_combinees.csv\")"
   ]
  },
  {
   "cell_type": "markdown",
   "metadata": {},
   "source": [
    "# 🔹 2. Vérifier les valeurs manquantes"
   ]
  },
  {
   "cell_type": "code",
   "execution_count": null,
   "metadata": {},
   "outputs": [],
   "source": [
    "print(\"Valeurs manquantes par colonne :\")\n",
    "print(df.isna().sum())"
   ]
  },
  {
   "cell_type": "markdown",
   "metadata": {},
   "source": [
    "# 🔹 3. Remplir les valeurs manquantes ou les traiter"
   ]
  },
  {
   "cell_type": "code",
   "execution_count": null,
   "metadata": {},
   "outputs": [],
   "source": [
    "df['nb_catastrophes'] = df['nb_catastrophes'].fillna(0).astype(int)"
   ]
  },
  {
   "cell_type": "markdown",
   "metadata": {},
   "source": [
    "# 🔹 4. Statistiques descriptives"
   ]
  },
  {
   "cell_type": "code",
   "execution_count": null,
   "metadata": {},
   "outputs": [],
   "source": [
    "print(\"\\nStatistiques descriptives globales :\")\n",
    "print(df.describe())"
   ]
  },
  {
   "cell_type": "markdown",
   "metadata": {},
   "source": [
    "# 🔹 5. Moyennes mobiles (sur 5 ans)"
   ]
  },
  {
   "cell_type": "code",
   "execution_count": null,
   "metadata": {},
   "outputs": [],
   "source": [
    "df['temp_moy_mobile'] = df.groupby('pays')['anomalie_temp'].transform(lambda x: x.rolling(window=5, min_periods=1).mean())\n",
    "df['co2_moy_mobile'] = df.groupby('pays')['co2_emis'].transform(lambda x: x.rolling(window=5, min_periods=1).mean())\n",
    "df['precip_moy_mobile'] = df.groupby('pays')['precipitations_mm'].transform(lambda x: x.rolling(window=5, min_periods=1).mean())"
   ]
  },
  {
   "cell_type": "markdown",
   "metadata": {},
   "source": [
    "# 🔹 6. Visualisation : évolution de la température"
   ]
  },
  {
   "cell_type": "code",
   "execution_count": null,
   "metadata": {},
   "outputs": [],
   "source": [
    "plt.figure(figsize=(12, 5))\n",
    "sns.lineplot(data=df, x=\"année\", y=\"anomalie_temp\", hue=\"pays\")\n",
    "plt.title(\"Évolution de l’anomalie de température annuelle\")\n",
    "plt.grid(True)\n",
    "plt.show()"
   ]
  },
  {
   "cell_type": "markdown",
   "metadata": {},
   "source": [
    "# 🔹 7. Visualisation : CO2 vs température (corrélation)"
   ]
  },
  {
   "cell_type": "code",
   "execution_count": null,
   "metadata": {},
   "outputs": [],
   "source": [
    "plt.figure(figsize=(8, 6))\n",
    "sns.scatterplot(data=df, x=\"co2_emis\", y=\"anomalie_temp\", hue=\"pays\")\n",
    "plt.title(\"Corrélation CO₂ émis vs température\")\n",
    "plt.grid(True)\n",
    "plt.show()"
   ]
  },
  {
   "cell_type": "markdown",
   "metadata": {},
   "source": [
    "# 🔹 8. Calcul de la corrélation (par pays)"
   ]
  },
  {
   "cell_type": "code",
   "execution_count": null,
   "metadata": {},
   "outputs": [],
   "source": [
    "for pays in df['pays'].unique():\n",
    "    temp = df[df['pays'] == pays]\n",
    "    corr = temp[['anomalie_temp', 'co2_emis', 'precipitations_mm', 'nb_catastrophes']].corr()\n",
    "    print(f\"\\n🔎 Corrélation pour {pays} :\\n{corr}\")"
   ]
  }
 ],
 "metadata": {
  "kernelspec": {
   "display_name": "Python 3",
   "language": "python",
   "name": "python3"
  },
  "language_info": {
   "name": "python",
   "version": "3.10.0"
  }
 },
 "nbformat": 4,
 "nbformat_minor": 2
}
